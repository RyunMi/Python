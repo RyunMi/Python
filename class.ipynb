{
 "metadata": {
  "language_info": {
   "codemirror_mode": {
    "name": "ipython",
    "version": 3
   },
   "file_extension": ".py",
   "mimetype": "text/x-python",
   "name": "python",
   "nbconvert_exporter": "python",
   "pygments_lexer": "ipython3",
   "version": "3.7.6-final"
  },
  "orig_nbformat": 2,
  "kernelspec": {
   "name": "python_defaultSpec_1597402741551",
   "display_name": "Python 3.7.6 64-bit ('base': conda)"
  }
 },
 "nbformat": 4,
 "nbformat_minor": 2,
 "cells": [
  {
   "cell_type": "code",
   "execution_count": 7,
   "metadata": {
    "tags": []
   },
   "outputs": [
    {
     "output_type": "stream",
     "name": "stdout",
     "text": "[[[1]\n  [2]]]\n(1, 2, 1)\n"
    }
   ],
   "source": [
    "import numpy as np\n",
    "a = np.array([[1,2]])\n",
    "#a = np.array([a])\n",
    "a = np.atleast_3d(a)\n",
    "print(a)\n",
    "print(a.shape)"
   ]
  },
  {
   "cell_type": "code",
   "execution_count": 11,
   "metadata": {
    "tags": []
   },
   "outputs": [
    {
     "output_type": "stream",
     "name": "stdout",
     "text": "(1, 2, 3)\n"
    }
   ],
   "source": [
    "import numpy as np\n",
    "a = np.zeros([2,3],dtype=np.int_)\n",
    "print(np.expand_dims(a,axis = 0).shape)"
   ]
  },
  {
   "cell_type": "code",
   "execution_count": 9,
   "metadata": {
    "tags": []
   },
   "outputs": [
    {
     "output_type": "stream",
     "name": "stdout",
     "text": "(2, 3, 1)\n"
    }
   ],
   "source": [
    "import numpy as np\n",
    "x = np.zeros([2,3])\n",
    "print(np.atleast_3d(x).shape)"
   ]
  },
  {
   "cell_type": "code",
   "execution_count": 19,
   "metadata": {
    "tags": []
   },
   "outputs": [
    {
     "output_type": "stream",
     "name": "stdout",
     "text": "(2, 3)\n"
    }
   ],
   "source": [
    "import numpy as np\n",
    "x = np.zeros([2,3,3])\n",
    "print(np.squeeze(a).shape)"
   ]
  },
  {
   "cell_type": "code",
   "execution_count": 28,
   "metadata": {
    "tags": []
   },
   "outputs": [
    {
     "output_type": "stream",
     "name": "stdout",
     "text": "[[0. 1.]\n [0. 1.]\n [0. 1.]]\n"
    }
   ],
   "source": [
    "import numpy as np\n",
    "a = np.zeros(3)\n",
    "b = np.ones(3)\n",
    "c = np.concatenate((a,b),0)\n",
    "c = np.c_[a,b]\n",
    "print(c)"
   ]
  },
  {
   "cell_type": "code",
   "execution_count": 32,
   "metadata": {
    "tags": []
   },
   "outputs": [
    {
     "output_type": "stream",
     "name": "stdout",
     "text": "[[1 2 3]\n [2 3 4]]\n[[1 2]\n [2 3]\n [3 4]]\n"
    }
   ],
   "source": [
    "import numpy as np\n",
    "a = np.array([1, 2, 3])\n",
    "b = np.array([2, 3, 4])\n",
    "c = np.column_stack((a,b))\n",
    "d = np.array([a,b])\n",
    "print(d)\n",
    "print(c)"
   ]
  },
  {
   "cell_type": "code",
   "execution_count": 40,
   "metadata": {
    "tags": []
   },
   "outputs": [
    {
     "output_type": "stream",
     "name": "stdout",
     "text": "初始矩阵: [ 1  2  3  4  5  6  7  8  9 10 11 12 13 14]\n拆分后\n[array([1, 2]), array([3, 4, 5, 6]), array([ 7,  8,  9, 10, 11, 12, 13, 14])]\n"
    }
   ],
   "source": [
    "import numpy as np\n",
    "x = np.arange(1,15)\n",
    "print('初始矩阵:',x)\n",
    "print('拆分后')\n",
    "print(np.split(x,[2,6]))"
   ]
  },
  {
   "cell_type": "code",
   "execution_count": 51,
   "metadata": {
    "tags": []
   },
   "outputs": [
    {
     "output_type": "stream",
     "name": "stdout",
     "text": "[False  True  True False False False False False False False]\n[1 3 3 4 0 0 0 0 3 0]\n[False  True  True False False False False False False False]\n[2 2]\n(array([0, 1, 2, 3, 8], dtype=int64),)\n"
    }
   ],
   "source": [
    "import numpy as np\n",
    "a = np.array([1,2,2,4,0,0,0,0,3,0])\n",
    "c = a==2\n",
    "print(a==2)\n",
    "print(c+a)\n",
    "print(c+c)\n",
    "idx = np.nonzero(a==2)\n",
    "b = np.nonzero(a)\n",
    "print(a[idx])\n",
    "print(b)"
   ]
  },
  {
   "cell_type": "code",
   "execution_count": 52,
   "metadata": {
    "tags": []
   },
   "outputs": [
    {
     "output_type": "stream",
     "name": "stdout",
     "text": "[[0 1]\n [2 3]\n [4 5]\n [6 7]\n [8 9]]\n"
    },
    {
     "output_type": "execute_result",
     "data": {
      "text/plain": "array([20, 25])"
     },
     "metadata": {},
     "execution_count": 52
    }
   ],
   "source": [
    "import numpy as np\n",
    "a = np.arange(10).reshape(5,2)\n",
    "print(a)\n",
    "np.sum(a,axis=0)"
   ]
  },
  {
   "cell_type": "code",
   "execution_count": 57,
   "metadata": {
    "tags": []
   },
   "outputs": [
    {
     "output_type": "stream",
     "name": "stdout",
     "text": "[[0 1]\n [2 3]\n [4 5]\n [6 7]\n [8 9]]\n(array([0, 1, 1, 2, 2, 3, 3, 4, 4], dtype=int64), array([1, 0, 1, 0, 1, 0, 1, 0, 1], dtype=int64))\n1\n2\n3\n4\n5\n6\n7\n8\n9\n[1 2 3 4 5 6 7 8 9]\n"
    }
   ],
   "source": [
    "import numpy as np\n",
    "a = np.arange(10).reshape(5,2)\n",
    "print(a)\n",
    "print(np.nonzero(a))\n",
    "idx,jdx = np.nonzero(a)\n",
    "for i in range(len(jdx)):\n",
    "    print(a[idx[i], jdx[i]])\n",
    "\n",
    "print(a[idx,jdx])"
   ]
  },
  {
   "cell_type": "code",
   "execution_count": 64,
   "metadata": {
    "tags": []
   },
   "outputs": [
    {
     "output_type": "stream",
     "name": "stdout",
     "text": "False\n[ True  True]\nTrue\n"
    }
   ],
   "source": [
    "import numpy as np\n",
    "a = np.array([1,2,3,4,5,6,7])\n",
    "b = 8\n",
    "c = np.array([3,5])\n",
    "print(np.isin(b,a))\n",
    "print(np.isin(c,a))\n",
    "print(3 in a)"
   ]
  },
  {
   "cell_type": "code",
   "execution_count": 67,
   "metadata": {
    "tags": []
   },
   "outputs": [
    {
     "output_type": "stream",
     "name": "stdout",
     "text": "[0.         0.11111111 0.22222222 0.33333333 0.44444444 0.55555556\n 0.66666667 0.77777778 0.88888889 1.        ]\n[0.  0.1 0.2 0.3 0.4 0.5 0.6 0.7 0.8 0.9]\n[0.  0.6]\n"
    }
   ],
   "source": [
    "import numpy as np\n",
    "a = np.linspace(0,1,10)\n",
    "b = np.arange(0,1,0.1)\n",
    "c = np.arange(0,1,0.6)\n",
    "print(a)\n",
    "print(b)\n",
    "print(c)"
   ]
  },
  {
   "cell_type": "code",
   "execution_count": 72,
   "metadata": {},
   "outputs": [
    {
     "output_type": "error",
     "ename": "ValueError",
     "evalue": "assignment destination is read-only",
     "traceback": [
      "\u001b[1;31m---------------------------------------------------------------------------\u001b[0m",
      "\u001b[1;31mValueError\u001b[0m                                Traceback (most recent call last)",
      "\u001b[1;32m<ipython-input-72-e515c5f61c3b>\u001b[0m in \u001b[0;36m<module>\u001b[1;34m\u001b[0m\n\u001b[0;32m      2\u001b[0m \u001b[0mx\u001b[0m \u001b[1;33m=\u001b[0m \u001b[0mnp\u001b[0m\u001b[1;33m.\u001b[0m\u001b[0mzeros\u001b[0m\u001b[1;33m(\u001b[0m\u001b[1;36m10\u001b[0m\u001b[1;33m)\u001b[0m\u001b[1;33m\u001b[0m\u001b[1;33m\u001b[0m\u001b[0m\n\u001b[0;32m      3\u001b[0m \u001b[0mx\u001b[0m\u001b[1;33m.\u001b[0m\u001b[0mflags\u001b[0m\u001b[1;33m.\u001b[0m\u001b[0mwriteable\u001b[0m \u001b[1;33m=\u001b[0m \u001b[1;32mFalse\u001b[0m\u001b[1;33m\u001b[0m\u001b[1;33m\u001b[0m\u001b[0m\n\u001b[1;32m----> 4\u001b[1;33m \u001b[0mx\u001b[0m\u001b[1;33m[\u001b[0m\u001b[1;36m3\u001b[0m\u001b[1;33m]\u001b[0m \u001b[1;33m=\u001b[0m \u001b[1;36m100\u001b[0m\u001b[1;33m\u001b[0m\u001b[1;33m\u001b[0m\u001b[0m\n\u001b[0m",
      "\u001b[1;31mValueError\u001b[0m: assignment destination is read-only"
     ]
    }
   ],
   "source": [
    "import numpy as np\n",
    "x = np.zeros(10)\n",
    "x.flags.writeable = False\n",
    "x[3] = 100"
   ]
  },
  {
   "cell_type": "code",
   "execution_count": 75,
   "metadata": {
    "tags": []
   },
   "outputs": [
    {
     "output_type": "stream",
     "name": "stdout",
     "text": "[ True False False  True False  True  True False False  True  True False\n  True False False  True False False  True False  True  True False False\n  True  True False  True False False  True False False  True False  True\n  True False False  True  True False  True False False  True False False\n  True False  True  True False False  True  True False  True False False\n  True False False  True False  True  True False False  True  True False\n  True False False  True False False  True False  True  True False False\n  True  True False  True False False  True False False  True False  True\n  True False False  True]\n(array([ 0,  3,  5,  6,  9, 10, 12, 15, 18, 20, 21, 24, 25, 27, 30, 33, 35,\n       36, 39, 40, 42, 45, 48, 50, 51, 54, 55, 57, 60, 63, 65, 66, 69, 70,\n       72, 75, 78, 80, 81, 84, 85, 87, 90, 93, 95, 96, 99], dtype=int64),)\n"
    }
   ],
   "source": [
    "import numpy as np\n",
    "a = np.arange(100)\n",
    "c = (a%3==0)|(a%5==0)\n",
    "print(c)\n",
    "print(np.nonzero(c))"
   ]
  },
  {
   "cell_type": "code",
   "execution_count": 82,
   "metadata": {},
   "outputs": [
    {
     "output_type": "error",
     "ename": "ValueError",
     "evalue": "no fill-function for data-type.",
     "traceback": [
      "\u001b[1;31m---------------------------------------------------------------------------\u001b[0m",
      "\u001b[1;31mValueError\u001b[0m                                Traceback (most recent call last)",
      "\u001b[1;32m<ipython-input-82-01272714569f>\u001b[0m in \u001b[0;36m<module>\u001b[1;34m\u001b[0m\n\u001b[0;32m      1\u001b[0m \u001b[1;32mimport\u001b[0m \u001b[0mnumpy\u001b[0m \u001b[1;32mas\u001b[0m \u001b[0mnp\u001b[0m\u001b[1;33m\u001b[0m\u001b[1;33m\u001b[0m\u001b[0m\n\u001b[0;32m      2\u001b[0m \u001b[0ma\u001b[0m \u001b[1;33m=\u001b[0m \u001b[0mnp\u001b[0m\u001b[1;33m.\u001b[0m\u001b[0mzeros\u001b[0m\u001b[1;33m(\u001b[0m\u001b[1;36m10\u001b[0m\u001b[1;33m)\u001b[0m\u001b[1;33m\u001b[0m\u001b[1;33m\u001b[0m\u001b[0m\n\u001b[1;32m----> 3\u001b[1;33m \u001b[0mc\u001b[0m \u001b[1;33m=\u001b[0m \u001b[0mnp\u001b[0m\u001b[1;33m.\u001b[0m\u001b[0marange\u001b[0m\u001b[1;33m(\u001b[0m\u001b[1;36m10\u001b[0m\u001b[1;33m,\u001b[0m\u001b[0mdtype\u001b[0m\u001b[1;33m=\u001b[0m\u001b[0mnp\u001b[0m\u001b[1;33m.\u001b[0m\u001b[0mbool_\u001b[0m\u001b[1;33m)\u001b[0m\u001b[1;33m\u001b[0m\u001b[1;33m\u001b[0m\u001b[0m\n\u001b[0m\u001b[0;32m      4\u001b[0m \u001b[0mprint\u001b[0m\u001b[1;33m(\u001b[0m\u001b[0mc\u001b[0m\u001b[1;33m)\u001b[0m\u001b[1;33m\u001b[0m\u001b[1;33m\u001b[0m\u001b[0m\n",
      "\u001b[1;31mValueError\u001b[0m: no fill-function for data-type."
     ]
    }
   ],
   "source": [
    "import numpy as np\n",
    "a = np.zeros(10)\n",
    "c = np.arange(10,dtype=np.bool_)\n",
    "print(c)"
   ]
  },
  {
   "cell_type": "code",
   "execution_count": 77,
   "metadata": {
    "tags": []
   },
   "outputs": [
    {
     "output_type": "stream",
     "name": "stdout",
     "text": "[  0.   1.   2.   3.   4.   5.   6.   7.   8.   9.  10.  11.  12.  13.\n  14.  15.  16.  17.  18.  19.  20.  21.  22.  23.  24.  25.  26.  27.\n  28.  29.  30.  31.  32.  33.  34.  35.  36.  37.  38.  39.  40.  41.\n  42.  43.  44.  45.  46.  47.  48.  49.  50.  51.  52.  53.  54.  55.\n  56.  57.  58.  59.  60.  61.  62.  63.  64.  65.  66.  67.  68.  69.\n  70.  71.  72.  73.  74.  75.  76.  77.  78.  79.  80.  81.  82.  83.\n  84.  85.  86.  87.  88.  89.  90.  91.  92.  93.  94.  95.  96.  97.\n  98.  99. 100. 101. 102. 103. 104. 105. 106. 107. 108. 109. 110. 111.\n 112. 113. 114. 115. 116. 117. 118. 119. 120. 121. 122. 123. 124. 125.\n 126. 127. 128. 129. 130. 131. 132. 133. 134. 135. 136. 137. 138. 139.\n 140. 141. 142. 143. 144. 145. 146. 147. 148. 149. 150. 151. 152. 153.\n 154. 155. 156. 157. 158. 159. 160. 161. 162. 163. 164. 165. 166. 167.\n 168. 169. 170. 171. 172. 173. 174. 175. 176. 177. 178. 179. 180. 181.\n 182. 183. 184. 185. 186. 187. 188. 189. 190. 191. 192. 193. 194. 195.\n 196. 197. 198. 199. 200. 201. 202. 203. 204. 205. 206. 207. 208. 209.\n 210. 211. 212. 213. 214. 215. 216. 217. 218. 219. 220. 221. 222. 223.\n 224. 225. 226. 227. 228. 229. 230. 231. 232. 233. 234. 235. 236. 237.\n 238. 239. 240. 241. 242. 243. 244. 245. 246. 247. 248. 249. 250. 251.\n 252. 253. 254. 255. 256. 257. 258. 259. 260. 261. 262. 263. 264. 265.\n 266. 267. 268. 269. 270. 271. 272. 273. 274. 275. 276. 277. 278. 279.\n 280. 281. 282. 283. 284. 285. 286. 287. 288. 289. 290. 291. 292. 293.\n 294. 295. 296. 297. 298. 299. 300. 301. 302. 303. 304. 305. 306. 307.\n 308. 309. 310. 311. 312. 313. 314. 315. 316. 317. 318. 319. 320. 321.\n 322. 323. 324. 325. 326. 327. 328. 329. 330. 331. 332. 333. 334. 335.\n 336. 337. 338. 339. 340. 341. 342. 343. 344. 345. 346. 347. 348. 349.\n 350. 351. 352. 353. 354. 355. 356. 357. 358. 359. 360. 361. 362. 363.\n 364. 365. 366. 367. 368. 369. 370. 371. 372. 373. 374. 375. 376. 377.\n 378. 379. 380. 381. 382. 383. 384. 385. 386. 387. 388. 389. 390. 391.\n 392. 393. 394. 395. 396. 397. 398. 399. 400. 401. 402. 403. 404. 405.\n 406. 407. 408. 409. 410. 411. 412. 413. 414. 415. 416. 417. 418. 419.\n 420. 421. 422. 423. 424. 425. 426. 427. 428. 429. 430. 431. 432. 433.\n 434. 435. 436. 437. 438. 439. 440. 441. 442. 443. 444. 445. 446. 447.\n 448. 449. 450. 451. 452. 453. 454. 455. 456. 457. 458. 459. 460. 461.\n 462. 463. 464. 465. 466. 467. 468. 469. 470. 471. 472. 473. 474. 475.\n 476. 477. 478. 479. 480. 481. 482. 483. 484. 485. 486. 487. 488. 489.\n 490. 491. 492. 493. 494. 495. 496. 497. 498. 499. 500. 501. 502. 503.\n 504. 505. 506. 507. 508. 509. 510. 511. 512. 513. 514. 515. 516. 517.\n 518. 519. 520. 521. 522. 523. 524. 525. 526. 527. 528. 529. 530. 531.\n 532. 533. 534. 535. 536. 537. 538. 539. 540. 541. 542. 543. 544. 545.\n 546. 547. 548. 549. 550. 551. 552. 553. 554. 555. 556. 557. 558. 559.\n 560. 561. 562. 563. 564. 565. 566. 567. 568. 569. 570. 571. 572. 573.\n 574. 575. 576. 577. 578. 579. 580. 581. 582. 583. 584. 585. 586. 587.\n 588. 589. 590. 591. 592. 593. 594. 595. 596. 597. 598. 599. 600. 601.\n 602. 603. 604. 605. 606. 607. 608. 609. 610. 611. 612. 613. 614. 615.\n 616. 617. 618. 619. 620. 621. 622. 623. 624. 625. 626. 627. 628. 629.\n 630. 631. 632. 633. 634. 635. 636. 637. 638. 639. 640. 641. 642. 643.\n 644. 645. 646. 647. 648. 649. 650. 651. 652. 653. 654. 655. 656. 657.\n 658. 659. 660. 661. 662. 663. 664. 665. 666. 667. 668. 669. 670. 671.\n 672. 673. 674. 675. 676. 677. 678. 679. 680. 681. 682. 683. 684. 685.\n 686. 687. 688. 689. 690. 691. 692. 693. 694. 695. 696. 697. 698. 699.\n 700. 701. 702. 703. 704. 705. 706. 707. 708. 709. 710. 711. 712. 713.\n 714. 715. 716. 717. 718. 719. 720. 721. 722. 723. 724. 725. 726. 727.\n 728. 729. 730. 731. 732. 733. 734. 735. 736. 737. 738. 739. 740. 741.\n 742. 743. 744. 745. 746. 747. 748. 749. 750. 751. 752. 753. 754. 755.\n 756. 757. 758. 759. 760. 761. 762. 763. 764. 765. 766. 767. 768. 769.\n 770. 771. 772. 773. 774. 775. 776. 777. 778. 779. 780. 781. 782. 783.\n 784. 785. 786. 787. 788. 789. 790. 791. 792. 793. 794. 795. 796. 797.\n 798. 799. 800. 801. 802. 803. 804. 805. 806. 807. 808. 809. 810. 811.\n 812. 813. 814. 815. 816. 817. 818. 819. 820. 821. 822. 823. 824. 825.\n 826. 827. 828. 829. 830. 831. 832. 833. 834. 835. 836. 837. 838. 839.\n 840. 841. 842. 843. 844. 845. 846. 847. 848. 849. 850. 851. 852. 853.\n 854. 855. 856. 857. 858. 859. 860. 861. 862. 863. 864. 865. 866. 867.\n 868. 869. 870. 871. 872. 873. 874. 875. 876. 877. 878. 879. 880. 881.\n 882. 883. 884. 885. 886. 887. 888. 889. 890. 891. 892. 893. 894. 895.\n 896. 897. 898. 899. 900. 901. 902. 903. 904. 905. 906. 907. 908. 909.\n 910. 911. 912. 913. 914. 915. 916. 917. 918. 919. 920. 921. 922. 923.\n 924. 925. 926. 927. 928. 929. 930. 931. 932. 933. 934. 935. 936. 937.\n 938. 939. 940. 941. 942. 943. 944. 945. 946. 947. 948. 949. 950. 951.\n 952. 953. 954. 955. 956. 957. 958. 959. 960. 961. 962. 963. 964. 965.\n 966. 967. 968. 969. 970. 971. 972. 973. 974. 975. 976. 977. 978. 979.\n 980. 981. 982. 983. 984. 985. 986. 987. 988. 989. 990. 991. 992. 993.\n 994. 995. 996. 997. 998. 999.]\n"
    }
   ],
   "source": [
    "import numpy as np\n",
    "x = np.arange(1e3)\n",
    "print(x)"
   ]
  },
  {
   "cell_type": "code",
   "execution_count": null,
   "metadata": {},
   "outputs": [],
   "source": []
  }
 ]
}