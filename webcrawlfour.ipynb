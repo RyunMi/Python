{
 "metadata": {
  "language_info": {
   "codemirror_mode": {
    "name": "ipython",
    "version": 3
   },
   "file_extension": ".py",
   "mimetype": "text/x-python",
   "name": "python",
   "nbconvert_exporter": "python",
   "pygments_lexer": "ipython3",
   "version": "3.7.6"
  },
  "orig_nbformat": 2,
  "kernelspec": {
   "name": "python3",
   "display_name": "Python 3.7.6 64-bit ('base': conda)",
   "metadata": {
    "interpreter": {
     "hash": "0d3da170c5345cad3e72858cf01c1689ae6b7dda294c085ca40741ebf80a22e8"
    }
   }
  }
 },
 "nbformat": 4,
 "nbformat_minor": 2,
 "cells": [
  {
   "cell_type": "code",
   "execution_count": 84,
   "metadata": {},
   "outputs": [
    {
     "output_type": "stream",
     "name": "stdout",
     "text": [
      "<html lang=\"zh\"><head><meta http-equiv=\"Content-Type\" content=\"text/html; charset=utf-8\">\n<meta name=\"viewport\" content=\"width=device-width, initial-scale=1.0\">\n<meta name=\"title\" content=\"网页爬虫 | 莫烦Py\n"
     ]
    }
   ],
   "source": [
    "import os\n",
    "\n",
    "os.makedirs('./img/', exist_ok=True)\n",
    "from selenium import webdriver\n",
    "\n",
    "driver = webdriver.Edge()#将可执行文件改名为MicrosoftWebDriver\n",
    "driver.get(\"https://mofanpy.com/\")\n",
    "driver.find_element_by_xpath(u\"//img[@alt='强化学习 (Reinforcement Learning)']\").click()\n",
    "driver.find_element_by_link_text(\"About\").click()\n",
    "driver.find_element_by_link_text(u\"赞助\").click()\n",
    "driver.find_element_by_link_text(u\"教程 ▾\").click()\n",
    "driver.find_element_by_link_text(u\"数据处理 ▾\").click()\n",
    "driver.find_element_by_link_text(u\"网页爬虫\").click()\n",
    "driver.get_screenshot_as_file(\"./img/sreenshot1.png\")\n",
    "html = driver.page_source       # get html\n",
    "driver.get_screenshot_as_file(\"./img/sreenshot1.png\")\n",
    "driver.close()\n",
    "print(html[:200])"
   ]
  },
  {
   "cell_type": "code",
   "execution_count": 101,
   "metadata": {},
   "outputs": [
    {
     "output_type": "stream",
     "name": "stdout",
     "text": [
      "<html lang=\"zh\"><head><meta http-equiv=\"Content-Type\" content=\"text/html; charset=utf-8\">\n<meta name=\"viewport\" content=\"width=device-width, initial-scale=1.0\">\n<meta name=\"title\" content=\"网页爬虫 | 莫烦Py\n"
     ]
    }
   ],
   "source": [
    "from msedge.selenium_tools import Edge, EdgeOptions\n",
    "options = EdgeOptions()\n",
    "options.use_chromium = True\n",
    "options.add_argument(\"headless\")      # define headless\n",
    "#options.add_argument(\"disable-gpu\")\n",
    "# add the option when creating driver\n",
    "driver = Edge(options=options,executable_path='MicrosoftWebDriver')\n",
    "driver.get(\"https://mofanpy.com/\")\n",
    "driver.find_element_by_xpath(u\"//img[@alt='强化学习 (Reinforcement Learning)']\").click()\n",
    "driver.find_element_by_link_text(\"About\").click()\n",
    "driver.find_element_by_link_text(u\"赞助\").click()\n",
    "driver.find_element_by_link_text(u\"教程 ▾\").click()\n",
    "driver.find_element_by_link_text(u\"数据处理 ▾\").click()\n",
    "driver.find_element_by_link_text(u\"网页爬虫\").click()\n",
    "html = driver.page_source           # get html\n",
    "driver.get_screenshot_as_file(\"./img/sreenshot2.png\")\n",
    "driver.close()\n",
    "print(html[:200])"
   ]
  }
 ]
}